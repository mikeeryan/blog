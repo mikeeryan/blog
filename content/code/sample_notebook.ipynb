{
 "cells": [
  {
   "cell_type": "markdown",
   "metadata": {},
   "source": [
    "### Sample jupyter notebook "
   ]
  },
  {
   "cell_type": "code",
   "execution_count": 1,
   "metadata": {},
   "outputs": [
    {
     "name": "stdout",
     "output_type": "stream",
     "text": [
      "This better work.\n"
     ]
    }
   ],
   "source": [
    "print(\"This better work.\")"
   ]
  },
  {
   "cell_type": "markdown",
   "metadata": {},
   "source": [
    "I hope it worked."
   ]
  }
 ],
 "metadata": {
  "Author": "Me",
   "Category": "Category",
    "Date": "2100-12-31",
    "Tags": "tag1,tag2",
    "Title": "This is the metadata inside the .ipynb!",	
  
  "kernelspec": {
   "display_name": "Python 3",
   "language": "python",
   "name": "python3"
  },
  "language_info": {
   "codemirror_mode": {
    "name": "ipython",
    "version": 3
   },
   "file_extension": ".py",
   "mimetype": "text/x-python",
   "name": "python",
   "nbconvert_exporter": "python",
   "pygments_lexer": "ipython3",
   "version": "3.6.5"
  },
  "name": "My notebook",
  "slug": "with-metadata"
 },
 "nbformat": 4,
 "nbformat_minor": 2
}
